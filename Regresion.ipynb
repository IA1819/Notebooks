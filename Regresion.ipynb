{
  "nbformat": 4,
  "nbformat_minor": 0,
  "metadata": {
    "colab": {
      "name": "Regresion.ipynb",
      "version": "0.3.2",
      "provenance": [],
      "include_colab_link": true
    },
    "kernelspec": {
      "name": "python3",
      "display_name": "Python 3"
    }
  },
  "cells": [
    {
      "cell_type": "markdown",
      "metadata": {
        "id": "view-in-github",
        "colab_type": "text"
      },
      "source": [
        "<a href=\"https://colab.research.google.com/github/IA1819/Notebooks/blob/master/Regresion.ipynb\" target=\"_parent\"><img src=\"https://colab.research.google.com/assets/colab-badge.svg\" alt=\"Open In Colab\"/></a>"
      ]
    },
    {
      "metadata": {
        "id": "LGpftq2h8sUH",
        "colab_type": "text"
      },
      "cell_type": "markdown",
      "source": [
        "# Actualización pesos regresión lineal\n",
        "\n",
        "Importamos las librerías necesarias para generar los gráficos."
      ]
    },
    {
      "metadata": {
        "id": "36ZRW-8t8UES",
        "colab_type": "code",
        "colab": {}
      },
      "cell_type": "code",
      "source": [
        "import matplotlib.pyplot as plt\n",
        "%matplotlib inline"
      ],
      "execution_count": 0,
      "outputs": []
    },
    {
      "metadata": {
        "id": "FLtRXkRN8HQN",
        "colab_type": "text"
      },
      "cell_type": "markdown",
      "source": [
        "Queremos predecir el modelo $y=2x+1$ y tenemos tres instancias $(x_0,y_0)=(-1,1)$, $(x_1,y_1)=(0,1)$ y $(x_2,y_2)=(1,3)$"
      ]
    },
    {
      "metadata": {
        "id": "Zv13DxYN8qsQ",
        "colab_type": "code",
        "colab": {}
      },
      "cell_type": "code",
      "source": [
        "x0,y0=(-1,-1)\n",
        "x1,y1=(0,1)\n",
        "x2,y2=(1,3)"
      ],
      "execution_count": 0,
      "outputs": []
    },
    {
      "metadata": {
        "id": "FGdFR_to9IuV",
        "colab_type": "code",
        "colab": {}
      },
      "cell_type": "code",
      "source": [
        "plt.plot([x0,x1,x2], [y0,y1,y2], 'ro')\n",
        "plt.axis([-2, 2,-2, 4])\n",
        "plt.show()"
      ],
      "execution_count": 0,
      "outputs": []
    },
    {
      "metadata": {
        "id": "n74JDjZc90sQ",
        "colab_type": "text"
      },
      "cell_type": "markdown",
      "source": [
        "Iniciamos $w = 1$ y $b=0.5$, y fijamos el ratio de aprendizaje $\\alpha=0.1$."
      ]
    },
    {
      "metadata": {
        "id": "GNObr8rk9XB0",
        "colab_type": "code",
        "colab": {}
      },
      "cell_type": "code",
      "source": [
        "w=1\n",
        "b=0.5\n",
        "alpha=0.1"
      ],
      "execution_count": 0,
      "outputs": []
    },
    {
      "metadata": {
        "id": "qRf_7cqT-AZH",
        "colab_type": "text"
      },
      "cell_type": "markdown",
      "source": [
        "Con esto tenemos el siguiente modelo."
      ]
    },
    {
      "metadata": {
        "id": "sWSSR0-L-Ga-",
        "colab_type": "code",
        "colab": {}
      },
      "cell_type": "code",
      "source": [
        "def regresion(w,b):\n",
        "  return lambda x: w*x+b"
      ],
      "execution_count": 0,
      "outputs": []
    },
    {
      "metadata": {
        "id": "6bqdCp3J_G-o",
        "colab_type": "text"
      },
      "cell_type": "markdown",
      "source": [
        "La función de coste se definiría del siguiente modo recibiendo una lista de pares."
      ]
    },
    {
      "metadata": {
        "id": "953_pJXN-nvr",
        "colab_type": "code",
        "colab": {}
      },
      "cell_type": "code",
      "source": [
        "def coste(w,b):\n",
        "  return lambda lis :  1.0/len(lis) * sum([(regresion(w,b)(x)-y)**2 for (x,y) in lis])"
      ],
      "execution_count": 0,
      "outputs": []
    },
    {
      "metadata": {
        "id": "xeOEvOFs-d78",
        "colab_type": "text"
      },
      "cell_type": "markdown",
      "source": [
        "Dicho modelo, su aproximación y su función de coste se puede ver con la siguiente celda."
      ]
    },
    {
      "metadata": {
        "id": "3SDsNcfW9_5Q",
        "colab_type": "code",
        "colab": {}
      },
      "cell_type": "code",
      "source": [
        "plt.plot([x0,x1,x2], [y0,y1,y2], 'ro')\n",
        "plt.plot([-2,2],[regresion(w,b)(-2),regresion(w,b)(2)])\n",
        "plt.axis([-2, 2,-2, 4])\n",
        "plt.show()\n",
        "print(\"Coste: \" + str(coste(w,b)([(x0,y0),(x1,y1),(x2,y2)])))"
      ],
      "execution_count": 0,
      "outputs": []
    },
    {
      "metadata": {
        "id": "H68xREwPATTh",
        "colab_type": "text"
      },
      "cell_type": "markdown",
      "source": [
        "Actualizamos $w$ y $b$ y volvemos a mostrar la aproximación y el coste. Cada vez que se ejecuta la siguiente celda vamos obteniendo una mejor aproximación y un menor coste. "
      ]
    },
    {
      "metadata": {
        "id": "m2mXvJBvATDZ",
        "colab_type": "code",
        "colab": {}
      },
      "cell_type": "code",
      "source": [
        "w1 = w - alpha * (2.0/3.0 * (-sum([x*(y-regresion(w,b)(x)) for (x,y) in [(x0,y0),(x1,y1),(x2,y2)]])))\n",
        "b = b - alpha * (2.0/3.0 * (-sum([(y-regresion(w,b)(x)) for (x,y) in [(x0,y0),(x1,y1),(x2,y2)]])))\n",
        "w=w1\n",
        "plt.plot([x0,x1,x2], [y0,y1,y2], 'ro')\n",
        "plt.plot([-2,2],[regresion(w,b)(-2),regresion(w,b)(2)])\n",
        "plt.axis([-2, 2,-2, 4])\n",
        "plt.show()\n",
        "print(\"w:\" + str(w))\n",
        "print(\"b:\" + str(b))\n",
        "print(\"Coste: \" + str(coste(w,b)([(x0,y0),(x1,y1),(x2,y2)])))"
      ],
      "execution_count": 0,
      "outputs": []
    },
    {
      "metadata": {
        "id": "lU1FqjkLAFBM",
        "colab_type": "code",
        "colab": {}
      },
      "cell_type": "code",
      "source": [
        ""
      ],
      "execution_count": 0,
      "outputs": []
    }
  ]
}